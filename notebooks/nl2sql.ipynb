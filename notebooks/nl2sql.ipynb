{
  "nbformat": 4,
  "nbformat_minor": 0,
  "metadata": {
    "colab": {
      "provenance": [],
      "include_colab_link": true
    },
    "kernelspec": {
      "name": "python3",
      "display_name": "Python 3"
    },
    "language_info": {
      "name": "python"
    }
  },
  "cells": [
    {
      "cell_type": "markdown",
      "metadata": {
        "id": "view-in-github",
        "colab_type": "text"
      },
      "source": [
        "<a href=\"https://colab.research.google.com/github/Komalsai234/nl2sql/blob/main/notebooks/nl2sql.ipynb\" target=\"_parent\"><img src=\"https://colab.research.google.com/assets/colab-badge.svg\" alt=\"Open In Colab\"/></a>"
      ]
    },
    {
      "cell_type": "markdown",
      "source": [
        "# NL2SQL"
      ],
      "metadata": {
        "id": "xXLnWnzkNNWr"
      }
    },
    {
      "cell_type": "code",
      "source": [
        "!pip install python-dotenv >/dev/null;\n",
        "!pip install langchain >/dev/null;\n",
        "!pip install langchain-community >/dev/null;\n",
        "!pip install langchain-openai >/dev/null;\n",
        "!pip install sqlalchemy psycopg2-binary -q"
      ],
      "metadata": {
        "id": "IPuA_qC1V-Nx",
        "colab": {
          "base_uri": "https://localhost:8080/"
        },
        "outputId": "11d6d40b-5ce6-4c44-8ebf-18fdcfad5576"
      },
      "execution_count": 3,
      "outputs": [
        {
          "output_type": "stream",
          "name": "stdout",
          "text": [
            "\u001b[?25l   \u001b[90m━━━━━━━━━━━━━━━━━━━━━━━━━━━━━━━━━━━━━━━━\u001b[0m \u001b[32m0.0/3.0 MB\u001b[0m \u001b[31m?\u001b[0m eta \u001b[36m-:--:--\u001b[0m\r\u001b[2K   \u001b[91m━━━━━━━━━━━━━━━━━━━━━━━━━━━━━━━━━━\u001b[0m\u001b[90m╺\u001b[0m\u001b[90m━━━━━\u001b[0m \u001b[32m2.6/3.0 MB\u001b[0m \u001b[31m78.1 MB/s\u001b[0m eta \u001b[36m0:00:01\u001b[0m\r\u001b[2K   \u001b[91m━━━━━━━━━━━━━━━━━━━━━━━━━━━━━━━━━━━━━━━\u001b[0m\u001b[91m╸\u001b[0m \u001b[32m3.0/3.0 MB\u001b[0m \u001b[31m79.3 MB/s\u001b[0m eta \u001b[36m0:00:01\u001b[0m\r\u001b[2K   \u001b[90m━━━━━━━━━━━━━━━━━━━━━━━━━━━━━━━━━━━━━━━━\u001b[0m \u001b[32m3.0/3.0 MB\u001b[0m \u001b[31m39.2 MB/s\u001b[0m eta \u001b[36m0:00:00\u001b[0m\n",
            "\u001b[?25h"
          ]
        }
      ]
    },
    {
      "cell_type": "code",
      "source": [
        "from dotenv import load_dotenv\n",
        "load_dotenv(dotenv_path=\"env\")"
      ],
      "metadata": {
        "colab": {
          "base_uri": "https://localhost:8080/"
        },
        "id": "1Ov_N78KWFHY",
        "outputId": "76a9aae6-cefd-4032-cc0b-efaac2deb718"
      },
      "execution_count": 4,
      "outputs": [
        {
          "output_type": "stream",
          "name": "stderr",
          "text": [
            "WARNING:dotenv.main:python-dotenv could not parse statement starting at line 2\n"
          ]
        },
        {
          "output_type": "execute_result",
          "data": {
            "text/plain": [
              "True"
            ]
          },
          "metadata": {},
          "execution_count": 4
        }
      ]
    },
    {
      "cell_type": "code",
      "source": [
        "import os\n",
        "import json\n",
        "import logging\n",
        "import threading\n",
        "from typing import Dict, Any\n",
        "\n",
        "from sqlalchemy import create_engine, inspect\n",
        "from sqlalchemy.exc import SQLAlchemyError\n",
        "from sqlalchemy.sql import text\n",
        "from langchain.docstore.document import Document"
      ],
      "metadata": {
        "id": "bE7r4fKhfMeA"
      },
      "execution_count": 5,
      "outputs": []
    },
    {
      "cell_type": "code",
      "source": [
        "logging.basicConfig(level=logging.INFO, format='%(asctime)s - %(levelname)s - %(message)s')"
      ],
      "metadata": {
        "id": "963XWYYH_RO5"
      },
      "execution_count": 2,
      "outputs": []
    },
    {
      "cell_type": "markdown",
      "source": [
        "## Data handler"
      ],
      "metadata": {
        "id": "uX89fI4AfEUG"
      }
    },
    {
      "cell_type": "code",
      "source": [
        "DESIRED_TABLES = [\n",
        "    \"auth_user\",\n",
        "    \"sourcing_job\",\n",
        "    \"sourcing_applicationstagemovement\",\n",
        "    \"param_auth_businessunit\",\n",
        "    \"sourcing_candidate\",\n",
        "    \"sourcing_applicationstatus\",\n",
        "    \"sourcing_application\",\n",
        "    \"sourcing_hiringteammember\",\n",
        "    \"sourcing_applicationcategory\",\n",
        "    \"sourcing_candidatesourcetype\",\n",
        "    \"sourcing_resume\",\n",
        "    \"consultancy_consultancy\",\n",
        "    \"consultancy_consultant\",\n",
        "    \"consultancy_outsourcedjob\",\n",
        "    \"employee_employee\",\n",
        "    \"param_auth_organization\",\n",
        "    \"sourcing_jobcategory\",\n",
        "    \"offer_manager_offermasterdata\",\n",
        "    \"sourcing_jobactivitylog\",\n",
        "    \"param_auth_teammember\",\n",
        "    \"param_forms_standardapplicationformfield\",\n",
        "    \"param_forms_formresponse\",\n",
        "    \"param_forms_formshare\",\n",
        "    \"param_forms_formreviewer\",\n",
        "    \"param_forms_standardapplicationformsection\",\n",
        "    \"param_forms_entitycustomfields\",\n",
        "    \"param_forms_formsection\",\n",
        "    \"param_forms_formtemplate\",\n",
        "    \"reports_sourceorigincounts\",\n",
        "    \"sourcing_city\",\n",
        "    \"sourcing_location\",\n",
        "    \"sourcing_jobreviewers\",\n",
        "    \"sourcing_recruiter\",\n",
        "    \"sourcing_recruiternotes\",\n",
        "    \"sourcing_recruiternotes_mentions\",\n",
        "    \"sourcing_prescreeningdata\",\n",
        "    \"sourcing_referrals\",\n",
        "    \"sourcing_tag\",\n",
        "    \"param_auth_team\",\n",
        "    \"interview_kit_interviewsession\",\n",
        "    \"param_forms_formquestion\",\n",
        "    \"sourcing_recruiter_jobs\"\n",
        "]"
      ],
      "metadata": {
        "id": "bN6pUwNEswxb"
      },
      "execution_count": 6,
      "outputs": []
    },
    {
      "cell_type": "code",
      "source": [
        "TABLE_DESCRIPTIONS = {\n",
        "    \"auth_user\": \"Manages user accounts in the HR application, storing usernames, hashed passwords, email addresses, and roles (superuser, staff, active status). Tracks login and account creation timestamps, enabling authentication, authorization, permission management, and secure access to recruitment tools, user assignments, and action tracking.\",\n",
        "    \"consultancy_consultancy\": \"Stores external consultancy details for HR management, including names, creation emails, lock status, and sourcing team affiliations. Tracks creation and modification timestamps, enabling coordination of outsourced recruitment, consultancy relationship management, and monitoring of external hiring contributions.\",\n",
        "    \"consultancy_consultant\": \"Holds profiles of individual consultants with their emails and links to their parent consultancies, along with timestamps for creation and modification. It is essential for identifying and contacting consultants, facilitating collaboration with external recruiters, and is applied in consultancy-driven recruitment to manage consultant interactions.\",\n",
        "    \"consultancy_outsourcedjob\": \"Links outsourced jobs to consultancies, storing job IDs, consultancy IDs, and validity dates to track assignment expirations. Facilitates management of external job postings, consultancy recruitment responsibilities, and alignment with organizational hiring needs.\",\n",
        "    \"employee_employee\": \"Stores employee profiles for HR management, including employee IDs, designations, departments, locations, preferred locations, reporting managers, and business units. Supports JSONB fields for custom data and resume storage, enabling recruitment, onboarding, team organization, workforce analytics, and employee tracking.\",\n",
        "    \"interview_kit_interviewsession\": \"Manages interview sessions in the recruitment pipeline, storing start/end times, locations, recruiter notes, JSONB interviewer feedback, and links to candidates, jobs, and team members. Tracks cancellation status, notifications, and interview URLs, enabling scheduling, candidate progress monitoring, and feedback collection for hiring coordination.\",\n",
        "    \"offer_manager_offermasterdata\": \"Stores job offer details for candidates, including JSONB data with salary components (basic, HRA, LTA, PF, gratuity), job designation, department, location, and recruiter information. Links to candidates and jobs, enabling offer management, compensation tracking, and recruitment finalization.\",\n",
        "    \"param_auth_businessunit\": \"Defines business units with names, ERP codes, and links to teams and organizations, tracking creation and modification timestamps. Supports categorization of jobs and recruitment by business unit, enabling targeted hiring strategies and alignment with organizational structures.\",\n",
        "    \"param_auth_organization\": \"Stores top-level organization details, including names, ERP codes, and team associations, with creation and modification timestamps. Enables management of organizational hierarchies, supports multi-entity recruitment context, and aligns HR operations with team and entity structures.\",\n",
        "    \"param_auth_team\": \"Defines recruitment teams with company names, logos, JSONB configurations, and authentication settings (Okta, SAML, MFA). Includes team types, career page settings, and integration details, enabling team-based HR workflows, branding, and secure recruitment coordination.\",\n",
        "    \"param_auth_teammember\": \"Assigns team members with roles, statuses, and JSONB configurations for onboarding and activities, linking to teams and users. Manages recruitment permissions, tracks member involvement, and supports collaboration and onboarding in HR workflows.\",\n",
        "    \"param_forms_entitycustomfields\": \"Stores custom field values for entities (e.g., jobs, candidates) with text data, entity types, and links to users and teams, tracking creation and modification. Enhances recruitment flexibility by enabling tailored data collection and custom attributes for HR processes\",\n",
        "    \"param_forms_formquestion\": \"Stores form questions with text values, repeatability flags, and field types, linking to jobs, sections, teams, and templates. Enables dynamic application form creation, targeted candidate data collection, and customized recruitment question design.\",\n",
        "    \"param_forms_formresponse\": \"Captures candidate form responses with text values, sequences, and dropdown options, linking to applications, candidates, jobs, questions, and teams. Supports structured evaluation of applicant answers, form submission processing, and recruitment data analysis.\",\n",
        "    \"param_forms_formreviewer\": \"Assigns reviewers to form submissions with statuses (e.g., pending, invited) and comments, linking to form shares, team members, and teams. Facilitates organized candidate evaluation, feedback coordination, and thorough review of application responses in recruitment.\",\n",
        "    \"param_forms_formsection\": \"Organizes form sections with text values, linking to jobs, teams, and templates, with creation and modification timestamps. Structures application forms into logical sections, enhancing data collection and recruitment form layout design.\",\n",
        "    \"param_forms_formshare\": \"Tracks form sharing with candidates, storing JSONB responses, validity dates, and links to candidates, jobs, and creators. Manages form distribution, ensures candidate completion, and facilitates application workflows in recruitment.\",\n",
        "    \"param_forms_formtemplate\": \"Defines reusable form templates with names, JSONB sections, rules, and reviewer settings, linked to teams and creators. Standardizes candidate data collection, streamlines application processes, and supports consistent recruitment form management.\",\n",
        "    \"param_forms_standardapplicationformfield\": \"Specifies application form fields with titles, types (e.g., text, number), and properties (required, editable), linked to sections and teams. Enables customized form design, targeted candidate data capture, and tailored input fields for recruitment.\",\n",
        "    \"param_forms_standardapplicationformsection\": \"Organizes standard form sections with titles, types, and priorities, linked to teams. Groups related fields for consistent application templates, enhancing form usability and recruitment data organization.\",\n",
        "    \"reports_sourceorigincounts\": \"Tracks recruitment source counts in JSONB format (e.g., applicants, interviewed, offered), linked to teams with timestamps. Enables analysis of sourcing effectiveness, channel performance, and recruitment strategy optimization in HR reporting.\",\n",
        "    \"sourcing_application\": \"Links candidates to job postings, storing application details like timestamps, statuses, JSONB form responses, rejection reasons, and assigned recruiters. Manages the application lifecycle, tracks candidate progress, and supports recruitment evaluation and advancement.\",\n",
        "    \"sourcing_applicationcategory\": \"Categorizes applications with titles and priority levels, enabling structured grouping and prioritization. Supports recruitment organization, application management, and trend analysis for streamlined workflows and reporting.\",\n",
        "    \"sourcing_applicationstagemovement\": \"Tracks application stage transitions with timestamps, source and destination stages, and involved team members, linking to applications and statuses. Monitors candidate pipeline progress, ensures hiring process transparency, and supports recruitment stage management.\",\n",
        "    \"sourcing_applicationstatus\": \"Defines application statuses with titles, stages, and category links, tracking creation and modification timestamps. Standardizes candidate progress tracking, supports consistent recruitment evaluation, and enables status updates and reporting.\",\n",
        "    \"sourcing_candidate\": \"Maintains candidate profiles with names, emails, resumes, experience, locations, and JSONB tags, linked to sources, teams, and resume storage. Centralizes data for sourcing, screening, and tracking candidate qualifications throughout recruitment.\",\n",
        "    \"sourcing_candidatesourcetype\": \"Categorizes candidate sources with types, categories, and team links, defining recruitment origins. Tracks sourcing effectiveness, optimizes outreach channels, and supports analysis of candidate recruitment sources.\",\n",
        "    \"sourcing_city\": \"Stores city details with locality names, city names, and autocomplete flags, tracking creation and modification. Enables location-based job and candidate filtering, matching opportunities to preferences, and enhances recruitment search capabilities.\",\n",
        "    \"sourcing_hiringteammember\": \"Assigns team members to jobs with roles, user IDs, and locations, linking to jobs and users. Defines hiring team responsibilities, fosters recruitment collaboration, and manages oversight of job postings and candidate evaluations.\",\n",
        "    \"sourcing_job\": \"Manages job postings with titles, JSONB descriptions, statuses, experience, and locations, linked to teams, categories, and form templates. Supports job creation, tracking, and publication, driving recruitment from posting to closure.\",\n",
        "    \"sourcing_jobactivitylog\": \"Logs job activities with types, actions, and metadata, linking to jobs and users. Maintains a recruitment audit trail, ensures transparency, and tracks job-related changes for monitoring.\",\n",
        "    \"sourcing_jobcategory\": \"Categorizes jobs with names and ERP codes, linked to teams for clarity. Groups jobs by type or function, simplifies recruitment searches and reporting, and aids in filtering opportunities for candidates and HR.\",\n",
        "    \"sourcing_jobreviewers\": \"Tracks job application reviewers with order, status, and comments, linking to jobs, team members, and inviters. Manages the review process, ensures structured feedback, and coordinates evaluations and approvals in recruitment.\",\n",
        "    \"sourcing_location\": \"Stores job location data with unique IDs and names for geographical categorization. Associates jobs with places, supports location-based recruitment searches, and aligns opportunities with candidate or organizational needs.\",\n",
        "    \"sourcing_prescreeningdata\": \"Stores prescreening data with statuses, timestamps, scores, and JSONB inferences, linking to candidates and jobs. Facilitates early candidate evaluation, streamlines screening processes, and supports recruitment filtering before interviews.\",\n",
        "    \"sourcing_recruiter\": \"Stores recruiter profiles with names, emails, and timestamps, identified by IDs and ATS references. Manages recruiter identities, enables candidate communication, and supports assignment and tracking of recruitment responsibilities.\",\n",
        "    \"sourcing_recruiter_jobs\": \"Connects recruiters to jobs with IDs, ensuring clear accountability. Tracks recruiter workloads, manages job assignments, and supports efficient recruitment oversight for specific postings.\",\n",
        "    \"sourcing_recruiternotes\": \"Stores recruiter notes with text, privacy flags, and edit tracking, linking to candidates, jobs, and recruiters. Documents observations, supports candidate evaluation, and enhances recruitment collaboration.\",\n",
        "    \"sourcing_recruiternotes_mentions\": \"Tracks user mentions in recruiter notes, linking to notes and users. Enhances team communication, ensures awareness, and facilitates coordination in recruitment processes.\",\n",
        "    \"sourcing_referrals\": \"Manages candidate referrals with emails, types, and relationships, linked to candidates and teams. Drives referral programs, incentivizes participation, and tracks recommended candidates in recruitment.\",\n",
        "    \"sourcing_resume\": \"Stores resumes with file paths, JSONB-parsed data, skills, and parsing status, tracking errors. Enables access to candidate qualifications, supports credential evaluation, and streamlines recruitment reviews.\",\n",
        "    \"sourcing_tag\": \"Stores tags with titles, colors, and team member links for categorizing recruitment entities. Organizes and filters data, simplifies searches, and enhances tagging of profiles or jobs in recruitment.\"\n",
        "}"
      ],
      "metadata": {
        "id": "9PDL5mRqvgBn"
      },
      "execution_count": 7,
      "outputs": []
    },
    {
      "cell_type": "code",
      "source": [
        "class DataHandler:\n",
        "    def __init__(\n",
        "        self,\n",
        "        db_uri: str = os.getenv(\"DATABASE_URI\"),\n",
        "    ):\n",
        "\n",
        "        if not db_uri:\n",
        "            raise ValueError(\"DATABASE_URI not found in environment variables.\")\n",
        "        self.db_uri = db_uri\n",
        "        self.engine = create_engine(self.db_uri)\n",
        "        self._last_error = threading.local()\n",
        "\n",
        "        try:\n",
        "            with self.engine.connect() as connection:\n",
        "                logging.info(\"Successfully connected to the PostgreSQL database.\")\n",
        "        except SQLAlchemyError as e:\n",
        "            logging.error(f\"Failed to connect to the database: {e}\")\n",
        "            raise\n",
        "\n",
        "    def get_schema(self) -> Dict[str, Any]:\n",
        "        inspector = inspect(self.engine)\n",
        "        schema = {}\n",
        "        for table_name in inspector.get_table_names():\n",
        "            if table_name not in DESIRED_TABLES:\n",
        "                continue\n",
        "            columns = inspector.get_columns(table_name)\n",
        "            if not columns:\n",
        "                continue\n",
        "            schema[table_name] = {\n",
        "                \"description\": TABLE_DESCRIPTIONS.get(table_name, \"\"),\n",
        "                \"columns\": {col[\"name\"]: col[\"type\"].__str__() for col in columns},\n",
        "                \"primary_keys\": inspector.get_pk_constraint(table_name).get(\n",
        "                    \"constrained_columns\", []\n",
        "                ),\n",
        "                \"foreign_keys\": [\n",
        "                    {\n",
        "                        \"column\": fk[\"constrained_columns\"][0],\n",
        "                        \"references\": {\n",
        "                            \"table\": fk[\"referred_table\"],\n",
        "                            \"column\": fk[\"referred_columns\"][0],\n",
        "                        },\n",
        "                    }\n",
        "                    for fk in inspector.get_foreign_keys(table_name)\n",
        "                    if fk[\"constrained_columns\"] and fk[\"referred_columns\"]\n",
        "                ],\n",
        "            }\n",
        "        return schema\n",
        "\n",
        "    def _format_schema(self, schema: Dict[str, Any]) -> tuple[list[str], list[str]]:\n",
        "        docs = []\n",
        "        table_names = []\n",
        "        for table, details in schema.items():\n",
        "            columns_str = \", \".join(\n",
        "                f\"{k}: {v}\" for k, v in details.get(\"columns\", {}).items()\n",
        "            )\n",
        "            primary_keys_str = \", \".join(details.get(\"primary_keys\", [])) or \"None\"\n",
        "            foreign_keys_str = (\n",
        "                \"; \".join(\n",
        "                    [\n",
        "                        f\"{fk['column']} -> {fk['references']['table']}.{fk['references']['column']}\"\n",
        "                        for fk in details.get(\"foreign_keys\", [])\n",
        "                    ]\n",
        "                )\n",
        "                or \"None\"\n",
        "            )\n",
        "            text = (\n",
        "                f\"Table: {table}\\n\"\n",
        "                f\"Description: {details.get('description', '')}\\n\"\n",
        "                f\"Columns: {columns_str}\\n\"\n",
        "                f\"Primary Keys: {primary_keys_str}\\n\"\n",
        "                f\"Foreign Keys: {foreign_keys_str}\\n\"\n",
        "            )\n",
        "            doc = Document(page_content=text, metadata={\"source\": \"local\"})\n",
        "            docs.append(doc)\n",
        "            table_names.append(table)\n",
        "        return docs, table_names\n",
        "\n",
        "    def get_formatted_schema(\n",
        "        self, schema: Dict[str, Any]\n",
        "    ) -> tuple[list[str], list[str]]:\n",
        "        return self._format_schema(schema)"
      ],
      "metadata": {
        "id": "JNjuDlXdfH4g"
      },
      "execution_count": 8,
      "outputs": []
    },
    {
      "cell_type": "code",
      "source": [
        "handler = DataHandler()"
      ],
      "metadata": {
        "id": "VsBNioGxgXA8"
      },
      "execution_count": 9,
      "outputs": []
    },
    {
      "cell_type": "code",
      "source": [
        "schema = handler.get_schema()\n",
        "docs, table_names = handler.get_formatted_schema()"
      ],
      "metadata": {
        "id": "-zb094_rAlRf"
      },
      "execution_count": null,
      "outputs": []
    },
    {
      "cell_type": "markdown",
      "source": [
        "## Selector"
      ],
      "metadata": {
        "id": "Zuk6oWmwVBtq"
      }
    },
    {
      "cell_type": "code",
      "execution_count": null,
      "metadata": {
        "id": "U50cnFTNNKhE"
      },
      "outputs": [],
      "source": [
        "class Selector:\n",
        "  pass"
      ]
    },
    {
      "cell_type": "markdown",
      "source": [
        "## Decomposer"
      ],
      "metadata": {
        "id": "P55yGS3JVHPe"
      }
    },
    {
      "cell_type": "code",
      "source": [
        "class Decomposer:\n",
        "  pass"
      ],
      "metadata": {
        "id": "JbXURk_-VJtq"
      },
      "execution_count": null,
      "outputs": []
    },
    {
      "cell_type": "markdown",
      "source": [
        "## Refiner"
      ],
      "metadata": {
        "id": "xTww80T5VNtN"
      }
    },
    {
      "cell_type": "code",
      "source": [
        "class Refiner:\n",
        "  pass"
      ],
      "metadata": {
        "id": "JoVIkgBbVM6V"
      },
      "execution_count": null,
      "outputs": []
    },
    {
      "cell_type": "code",
      "source": [],
      "metadata": {
        "id": "kNjsHqu0pNNB"
      },
      "execution_count": null,
      "outputs": []
    }
  ]
}