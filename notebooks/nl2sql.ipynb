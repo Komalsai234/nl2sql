{
  "nbformat": 4,
  "nbformat_minor": 0,
  "metadata": {
    "colab": {
      "provenance": [],
      "authorship_tag": "ABX9TyNeFtDHTdKcGRMkvGiBcAzb",
      "include_colab_link": true
    },
    "kernelspec": {
      "name": "python3",
      "display_name": "Python 3"
    },
    "language_info": {
      "name": "python"
    }
  },
  "cells": [
    {
      "cell_type": "markdown",
      "metadata": {
        "id": "view-in-github",
        "colab_type": "text"
      },
      "source": [
        "<a href=\"https://colab.research.google.com/github/Komalsai234/nl2sql/blob/main/notebooks/nl2sql.ipynb\" target=\"_parent\"><img src=\"https://colab.research.google.com/assets/colab-badge.svg\" alt=\"Open In Colab\"/></a>"
      ]
    },
    {
      "cell_type": "markdown",
      "source": [
        "# NL2SQL Research Notebook"
      ],
      "metadata": {
        "id": "xXLnWnzkNNWr"
      }
    },
    {
      "cell_type": "code",
      "source": [
        "!pip install python-dotenv >/dev/null;"
      ],
      "metadata": {
        "id": "IPuA_qC1V-Nx"
      },
      "execution_count": 2,
      "outputs": []
    },
    {
      "cell_type": "code",
      "source": [
        "from dotenv import load_dotenv\n",
        "load_dotenv(dotenv_path=\"env\")"
      ],
      "metadata": {
        "colab": {
          "base_uri": "https://localhost:8080/"
        },
        "id": "1Ov_N78KWFHY",
        "outputId": "f07bfeef-58b3-4059-968d-5827dbbbd763"
      },
      "execution_count": 3,
      "outputs": [
        {
          "output_type": "stream",
          "name": "stderr",
          "text": [
            "WARNING:dotenv.main:python-dotenv could not parse statement starting at line 2\n"
          ]
        },
        {
          "output_type": "execute_result",
          "data": {
            "text/plain": [
              "True"
            ]
          },
          "metadata": {},
          "execution_count": 3
        }
      ]
    },
    {
      "cell_type": "markdown",
      "source": [
        "### Selector"
      ],
      "metadata": {
        "id": "Zuk6oWmwVBtq"
      }
    },
    {
      "cell_type": "code",
      "execution_count": null,
      "metadata": {
        "id": "U50cnFTNNKhE"
      },
      "outputs": [],
      "source": [
        "class Selector:\n",
        "  pass"
      ]
    },
    {
      "cell_type": "markdown",
      "source": [
        "### Decomposer"
      ],
      "metadata": {
        "id": "P55yGS3JVHPe"
      }
    },
    {
      "cell_type": "code",
      "source": [
        "class Decomposer:\n",
        "  pass"
      ],
      "metadata": {
        "id": "JbXURk_-VJtq"
      },
      "execution_count": null,
      "outputs": []
    },
    {
      "cell_type": "markdown",
      "source": [
        "### Refiner"
      ],
      "metadata": {
        "id": "xTww80T5VNtN"
      }
    },
    {
      "cell_type": "code",
      "source": [
        "class Refiner:\n",
        "  pass"
      ],
      "metadata": {
        "id": "JoVIkgBbVM6V"
      },
      "execution_count": null,
      "outputs": []
    }
  ]
}